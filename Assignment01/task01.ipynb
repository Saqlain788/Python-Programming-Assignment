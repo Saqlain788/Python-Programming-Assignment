{
 "cells": [
  {
   "cell_type": "code",
   "execution_count": 2,
   "metadata": {},
   "outputs": [
    {
     "name": "stdout",
     "output_type": "stream",
     "text": [
      "Anton is 21 years old.\n",
      "Beth is 27 years old.\n",
      "Chen is 47 years old.\n",
      "Drew is 68 years old.\n",
      "Ethan is 47 years old.\n"
     ]
    }
   ],
   "source": [
    "# Assign ages based on the given information\n",
    "anton_age : int = 21\n",
    "beth_age : int = anton_age + 6\n",
    "chen_age : int = beth_age + 20\n",
    "drew_age : int = chen_age + anton_age\n",
    "ethan_age : int = chen_age\n",
    "\n",
    "# Print each person's name and age\n",
    "print(f\"Anton is {anton_age} years old.\")\n",
    "print(f\"Beth is {beth_age} years old.\")\n",
    "print(f\"Chen is {chen_age} years old.\")\n",
    "print(f\"Drew is {drew_age} years old.\")\n",
    "print(f\"Ethan is {ethan_age} years old.\")\n"
   ]
  },
  {
   "cell_type": "code",
   "execution_count": 3,
   "metadata": {},
   "outputs": [
    {
     "name": "stdout",
     "output_type": "stream",
     "text": [
      "\u001b[1;3masad\u001b[0m\n"
     ]
    }
   ],
   "source": [
    "# ANSI escape codes for bold and italic\n",
    "bold_italic_start = \"\\033[1;3m\"\n",
    "bold_italic_end = \"\\033[0m\"\n",
    "\n",
    "# Get user input\n",
    "user_input = input(\"Enter some text: \")\n",
    "\n",
    "# Print the input in bold and italic\n",
    "print(f\"{bold_italic_start}{user_input}{bold_italic_end}\")\n"
   ]
  }
 ],
 "metadata": {
  "kernelspec": {
   "display_name": "Python 3",
   "language": "python",
   "name": "python3"
  },
  "language_info": {
   "codemirror_mode": {
    "name": "ipython",
    "version": 3
   },
   "file_extension": ".py",
   "mimetype": "text/x-python",
   "name": "python",
   "nbconvert_exporter": "python",
   "pygments_lexer": "ipython3",
   "version": "3.12.0"
  }
 },
 "nbformat": 4,
 "nbformat_minor": 2
}
